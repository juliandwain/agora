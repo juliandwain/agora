{
 "metadata": {
  "language_info": {
   "codemirror_mode": {
    "name": "ipython",
    "version": 3
   },
   "file_extension": ".py",
   "mimetype": "text/x-python",
   "name": "python",
   "nbconvert_exporter": "python",
   "pygments_lexer": "ipython3",
   "version": "3.8.5-final"
  },
  "orig_nbformat": 2,
  "kernelspec": {
   "name": "python3",
   "display_name": "Python 3"
  }
 },
 "nbformat": 4,
 "nbformat_minor": 2,
 "cells": [
  {
   "cell_type": "code",
   "execution_count": 2,
   "metadata": {},
   "outputs": [],
   "source": [
    "import numpy as np\n",
    "\n",
    "from scipy.optimize import linprog, OptimizeResult"
   ]
  },
  {
   "cell_type": "code",
   "execution_count": 2,
   "metadata": {},
   "outputs": [],
   "source": [
    "def callback(res: OptimizeResult) -> None:\n",
    "    print(f\"Status: {res.status}\")\n",
    "    print(f\"Fun: {res.fun}\")\n",
    "    print(f\"Slack: {res.slack}\")\n",
    "    print(f\"Con: {res.con}\")\n",
    "    print(f\"Phase: {res.phase}\")\n",
    "    print(f\"Nit: {res.nit}\")\n",
    "    print(f\"X: {res.x}\")\n",
    "    print(\"\\n\")\n"
   ]
  },
  {
   "cell_type": "code",
   "execution_count": 3,
   "metadata": {},
   "outputs": [],
   "source": [
    "c = np.array([-30, -80], dtype=float)\n",
    "A_ub = np.array([[1, 1],\n",
    "                 [1, 2],\n",
    "                 [0, 1]], dtype=float)\n",
    "b_ub = np.array([18, 20, 8], dtype=float)\n",
    "\n",
    "x1_bounds = (0, None)\n",
    "x2_bounds = (0, None)\n",
    "bounds = [x1_bounds, x2_bounds]"
   ]
  },
  {
   "cell_type": "code",
   "execution_count": 4,
   "metadata": {},
   "outputs": [
    {
     "output_type": "stream",
     "name": "stdout",
     "text": [
      "Status: 0\nFun: 0.0\nSlack: [18. 20.  8.]\nCon: []\nPhase: 1\nNit: 0\nX: [0. 0.]\n\n\nStatus: 0\nFun: -640.0\nSlack: [10.  4.  0.]\nCon: []\nPhase: 1\nNit: 1\nX: [0. 8.]\n\n\nStatus: 0\nFun: -760.0\nSlack: [6. 0. 0.]\nCon: []\nPhase: 1\nNit: 2\nX: [4. 8.]\n\n\nStatus: 0\nFun: -760.0\nSlack: [6. 0. 0.]\nCon: []\nPhase: 1\nNit: 3\nX: [4. 8.]\n\n\nStatus: 0\nFun: -760.0\nSlack: [6. 0. 0.]\nCon: []\nPhase: 2\nNit: 3\nX: [4. 8.]\n\n\nOptimization terminated successfully.\n         Current function value: -760.000000 \n         Iterations: 3\n"
     ]
    },
    {
     "output_type": "execute_result",
     "data": {
      "text/plain": [
       "     con: array([], dtype=float64)\n",
       "     fun: -760.0\n",
       " message: 'Optimization terminated successfully.'\n",
       "     nit: 3\n",
       "   slack: array([6., 0., 0.])\n",
       "  status: 0\n",
       " success: True\n",
       "       x: array([4., 8.])"
      ]
     },
     "metadata": {},
     "execution_count": 4
    }
   ],
   "source": [
    "options = {\n",
    "    \"disp\": True\n",
    "}\n",
    "\n",
    "linprog(c=c, A_ub=A_ub, b_ub=b_ub, bounds=bounds, method=\"simplex\", callback=callback, options=options)"
   ]
  },
  {
   "cell_type": "code",
   "execution_count": null,
   "metadata": {},
   "outputs": [],
   "source": []
  }
 ]
}