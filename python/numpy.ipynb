{
 "metadata": {
  "language_info": {
   "codemirror_mode": {
    "name": "ipython",
    "version": 3
   },
   "file_extension": ".py",
   "mimetype": "text/x-python",
   "name": "python",
   "nbconvert_exporter": "python",
   "pygments_lexer": "ipython3",
   "version": "3.8.5-final"
  },
  "orig_nbformat": 2,
  "kernelspec": {
   "name": "python3",
   "display_name": "Python 3",
   "language": "python"
  }
 },
 "nbformat": 4,
 "nbformat_minor": 2,
 "cells": [
  {
   "source": [
    "# Numpy Memory Layout\n",
    "\n",
    "Within this small notebook, the difference between the memory layouts in numpy are examined, i.e. the C-major or Fortran-major order.\n",
    "Additionally, the goal is to test whether the ``numpy`` functions or the corresponding ``ndarray`` methods are operating faster on \"huge\" arrays.\n",
    "This notebook is inspired by [this post](https://stackoverflow.com/questions/26998223/what-is-the-difference-between-contiguous-and-non-contiguous-arrays/26999092#26999092)."
   ],
   "cell_type": "markdown",
   "metadata": {}
  },
  {
   "cell_type": "code",
   "execution_count": 25,
   "metadata": {},
   "outputs": [],
   "source": [
    "import numpy as np"
   ]
  },
  {
   "source": [
    "Define two array of shape ``(n, n)``, one in C-major and one in Fortran-major memory layout, i.e. **C or Fortran contiguous memory layout**."
   ],
   "cell_type": "markdown",
   "metadata": {}
  },
  {
   "cell_type": "code",
   "execution_count": 26,
   "metadata": {},
   "outputs": [
    {
     "output_type": "stream",
     "name": "stdout",
     "text": [
      "C-major array:\n[[       0        1        2 ...     9997     9998     9999]\n [   10000    10001    10002 ...    19997    19998    19999]\n [   20000    20001    20002 ...    29997    29998    29999]\n ...\n [99970000 99970001 99970002 ... 99979997 99979998 99979999]\n [99980000 99980001 99980002 ... 99989997 99989998 99989999]\n [99990000 99990001 99990002 ... 99999997 99999998 99999999]]\n\nFortran-major:\n[[       0    10000    20000 ... 99970000 99980000 99990000]\n [       1    10001    20001 ... 99970001 99980001 99990001]\n [       2    10002    20002 ... 99970002 99980002 99990002]\n ...\n [    9997    19997    29997 ... 99979997 99989997 99999997]\n [    9998    19998    29998 ... 99979998 99989998 99999998]\n [    9999    19999    29999 ... 99979999 99989999 99999999]]\n\n"
     ]
    }
   ],
   "source": [
    "n = 10_000\n",
    "arr_c_major = np.arange(n**2).reshape((n, n), order=\"C\")\n",
    "arr_f_major = np.arange(n**2).reshape((n, n), order=\"F\")\n",
    "\n",
    "msg = f\"C-major array:\\n{arr_c_major}\\n\\nFortran-major:\\n{arr_f_major}\\n\"\n",
    "print(msg)"
   ]
  },
  {
   "source": [
    "## Test of Operation Order on Arrays Using Numpy Function"
   ],
   "cell_type": "markdown",
   "metadata": {}
  },
  {
   "source": [
    "Sum the rows of the C-major array. Faster."
   ],
   "cell_type": "markdown",
   "metadata": {}
  },
  {
   "cell_type": "code",
   "execution_count": 35,
   "metadata": {},
   "outputs": [
    {
     "output_type": "stream",
     "name": "stdout",
     "text": [
      "43 ms ± 312 µs per loop (mean ± std. dev. of 7 runs, 10 loops each)\n"
     ]
    }
   ],
   "source": [
    "sum_arr_c_np = %timeit -o np.sum(arr_c_major, axis=0)"
   ]
  },
  {
   "cell_type": "code",
   "execution_count": 37,
   "metadata": {},
   "outputs": [
    {
     "output_type": "execute_result",
     "data": {
      "text/plain": [
       "5.099999999913507e-05"
      ]
     },
     "metadata": {},
     "execution_count": 37
    }
   ],
   "source": [
    "sum_arr_c_np.compile_time"
   ]
  },
  {
   "source": [
    "Sum the columns of the C-major array. Slower."
   ],
   "cell_type": "markdown",
   "metadata": {}
  },
  {
   "cell_type": "code",
   "execution_count": 28,
   "metadata": {},
   "outputs": [
    {
     "output_type": "stream",
     "name": "stdout",
     "text": [
      "50.3 ms ± 155 µs per loop (mean ± std. dev. of 7 runs, 10 loops each)\n"
     ]
    }
   ],
   "source": [
    "%timeit np.sum(arr_c_major, axis=1)"
   ]
  },
  {
   "source": [
    "Sum of rows of the Fortran-major array. Slower."
   ],
   "cell_type": "markdown",
   "metadata": {}
  },
  {
   "cell_type": "code",
   "execution_count": 29,
   "metadata": {},
   "outputs": [
    {
     "output_type": "stream",
     "name": "stdout",
     "text": [
      "50.1 ms ± 110 µs per loop (mean ± std. dev. of 7 runs, 10 loops each)\n"
     ]
    }
   ],
   "source": [
    "%timeit np.sum(arr_f_major, axis=0)"
   ]
  },
  {
   "source": [
    "Sum of columns of the Fortran-major array. Faster."
   ],
   "cell_type": "markdown",
   "metadata": {}
  },
  {
   "cell_type": "code",
   "execution_count": 30,
   "metadata": {},
   "outputs": [
    {
     "output_type": "stream",
     "name": "stdout",
     "text": [
      "42.4 ms ± 1.07 ms per loop (mean ± std. dev. of 7 runs, 10 loops each)\n"
     ]
    }
   ],
   "source": [
    "%timeit np.sum(arr_f_major, axis=1)"
   ]
  },
  {
   "source": [
    "In conclusion, row-wise operations (``axis=0``) on C-major arrays and column-wise operations (``axis=1``) on Fortran-major arrays are faster."
   ],
   "cell_type": "markdown",
   "metadata": {}
  },
  {
   "source": [
    "## Test of Numpy Function vs. Ndarray Methods"
   ],
   "cell_type": "markdown",
   "metadata": {}
  },
  {
   "cell_type": "code",
   "execution_count": 31,
   "metadata": {},
   "outputs": [
    {
     "output_type": "stream",
     "name": "stdout",
     "text": [
      "42.6 ms ± 180 µs per loop (mean ± std. dev. of 7 runs, 10 loops each)\n"
     ]
    }
   ],
   "source": [
    "%timeit np.sum(arr_c_major, axis=0)"
   ]
  },
  {
   "cell_type": "code",
   "execution_count": 32,
   "metadata": {},
   "outputs": [
    {
     "output_type": "stream",
     "name": "stdout",
     "text": [
      "41.8 ms ± 181 µs per loop (mean ± std. dev. of 7 runs, 10 loops each)\n"
     ]
    }
   ],
   "source": [
    "%timeit arr_c_major.sum(axis=0)"
   ]
  },
  {
   "cell_type": "code",
   "execution_count": 33,
   "metadata": {},
   "outputs": [
    {
     "output_type": "stream",
     "name": "stdout",
     "text": [
      "41.6 ms ± 86.5 µs per loop (mean ± std. dev. of 7 runs, 10 loops each)\n"
     ]
    }
   ],
   "source": [
    "%timeit np.sum(arr_f_major, axis=1)"
   ]
  },
  {
   "cell_type": "code",
   "execution_count": 34,
   "metadata": {},
   "outputs": [
    {
     "output_type": "stream",
     "name": "stdout",
     "text": [
      "42 ms ± 181 µs per loop (mean ± std. dev. of 7 runs, 10 loops each)\n"
     ]
    }
   ],
   "source": [
    "%timeit arr_f_major.sum(axis=1)"
   ]
  },
  {
   "cell_type": "code",
   "execution_count": null,
   "metadata": {},
   "outputs": [],
   "source": []
  }
 ]
}