{
 "metadata": {
  "language_info": {
   "codemirror_mode": {
    "name": "ipython",
    "version": 3
   },
   "file_extension": ".py",
   "mimetype": "text/x-python",
   "name": "python",
   "nbconvert_exporter": "python",
   "pygments_lexer": "ipython3",
   "version": 3
  },
  "orig_nbformat": 2,
  "kernelspec": {
   "name": "julia-1.5",
   "display_name": "Julia 1.5.3",
   "language": "julia"
  }
 },
 "nbformat": 4,
 "nbformat_minor": 2,
 "cells": [
  {
   "cell_type": "code",
   "execution_count": 3,
   "metadata": {},
   "outputs": [
    {
     "output_type": "error",
     "ename": "LoadError",
     "evalue": "ArgumentError: Package GLM not found in current path:\n- Run `import Pkg; Pkg.add(\"GLM\")` to install the GLM package.\n",
     "traceback": [
      "ArgumentError: Package GLM not found in current path:\n- Run `import Pkg; Pkg.add(\"GLM\")` to install the GLM package.\n",
      "",
      "Stacktrace:",
      " [1] require(::Module, ::Symbol) at ./loading.jl:893",
      " [2] include_string(::Function, ::Module, ::String, ::String) at ./loading.jl:1091"
     ]
    }
   ],
   "source": [
    "import Base.Filesystem\n",
    "import Base.Threads\n",
    "import Dates\n",
    "\n",
    "import CSV\n",
    "import DataFrames\n",
    "import GLM\n",
    "# import Plots"
   ]
  },
  {
   "cell_type": "code",
   "execution_count": 3,
   "metadata": {},
   "outputs": [
    {
     "output_type": "execute_result",
     "data": {
      "text/plain": [
       "1"
      ]
     },
     "metadata": {},
     "execution_count": 3
    }
   ],
   "source": [
    "const PATH = Filesystem.pwd()\n",
    "const FILENAME = \"covid.csv\"\n",
    "const FILE = Filesystem.joinpath(PATH, \"../data\", FILENAME)\n",
    "const THREADS = Threads.nthreads()"
   ]
  },
  {
   "cell_type": "code",
   "execution_count": 5,
   "metadata": {},
   "outputs": [
    {
     "output_type": "execute_result",
     "data": {
      "text/plain": [
       "\"/mnt/d/Julian/Privat/Projects/agora/data_analysis/../data/covid.csv\""
      ]
     },
     "metadata": {},
     "execution_count": 5
    }
   ],
   "source": [
    "FILE"
   ]
  },
  {
   "cell_type": "code",
   "execution_count": 23,
   "metadata": {},
   "outputs": [
    {
     "output_type": "execute_result",
     "data": {
      "text/plain": [
       "301×10 SubDataFrame. Omitted printing of 5 columns\n",
       "│ Row │ Date.Day │ Date.Month │ Date.Year │ Data.Cases │ Data.Deaths │\n",
       "│     │ \u001b[90mInt64\u001b[39m    │ \u001b[90mInt64\u001b[39m      │ \u001b[90mInt64\u001b[39m     │ \u001b[90mInt64\u001b[39m      │ \u001b[90mInt64\u001b[39m       │\n",
       "├─────┼──────────┼────────────┼───────────┼────────────┼─────────────┤\n",
       "│ 1   │ 5        │ 11         │ 2020      │ 121        │ 6           │\n",
       "│ 2   │ 4        │ 11         │ 2020      │ 86         │ 4           │\n",
       "│ 3   │ 3        │ 11         │ 2020      │ 95         │ 3           │\n",
       "│ 4   │ 2        │ 11         │ 2020      │ 132        │ 5           │\n",
       "│ 5   │ 1        │ 11         │ 2020      │ 76         │ 0           │\n",
       "│ 6   │ 31       │ 10         │ 2020      │ 157        │ 4           │\n",
       "│ 7   │ 30       │ 10         │ 2020      │ 123        │ 3           │\n",
       "│ 8   │ 29       │ 10         │ 2020      │ 0          │ 0           │\n",
       "│ 9   │ 28       │ 10         │ 2020      │ 113        │ 7           │\n",
       "│ 10  │ 27       │ 10         │ 2020      │ 199        │ 8           │\n",
       "⋮\n",
       "│ 291 │ 10       │ 1          │ 2020      │ 0          │ 0           │\n",
       "│ 292 │ 9        │ 1          │ 2020      │ 0          │ 0           │\n",
       "│ 293 │ 8        │ 1          │ 2020      │ 0          │ 0           │\n",
       "│ 294 │ 7        │ 1          │ 2020      │ 0          │ 0           │\n",
       "│ 295 │ 6        │ 1          │ 2020      │ 0          │ 0           │\n",
       "│ 296 │ 5        │ 1          │ 2020      │ 0          │ 0           │\n",
       "│ 297 │ 4        │ 1          │ 2020      │ 0          │ 0           │\n",
       "│ 298 │ 3        │ 1          │ 2020      │ 0          │ 0           │\n",
       "│ 299 │ 2        │ 1          │ 2020      │ 0          │ 0           │\n",
       "│ 300 │ 1        │ 1          │ 2020      │ 0          │ 0           │\n",
       "│ 301 │ 31       │ 12         │ 2019      │ 0          │ 0           │"
      ],
      "text/html": "<table class=\"data-frame\"><thead><tr><th></th><th>Date.Day</th><th>Date.Month</th><th>Date.Year</th><th>Data.Cases</th><th>Data.Deaths</th><th>Location.Country</th><th>Location.Code</th></tr><tr><th></th><th>Int64</th><th>Int64</th><th>Int64</th><th>Int64</th><th>Int64</th><th>String</th><th>String?</th></tr></thead><tbody><p>301 rows × 10 columns (omitted printing of 3 columns)</p><tr><th>1</th><td>5</td><td>11</td><td>2020</td><td>121</td><td>6</td><td>Afghanistan</td><td>AFG</td></tr><tr><th>2</th><td>4</td><td>11</td><td>2020</td><td>86</td><td>4</td><td>Afghanistan</td><td>AFG</td></tr><tr><th>3</th><td>3</td><td>11</td><td>2020</td><td>95</td><td>3</td><td>Afghanistan</td><td>AFG</td></tr><tr><th>4</th><td>2</td><td>11</td><td>2020</td><td>132</td><td>5</td><td>Afghanistan</td><td>AFG</td></tr><tr><th>5</th><td>1</td><td>11</td><td>2020</td><td>76</td><td>0</td><td>Afghanistan</td><td>AFG</td></tr><tr><th>6</th><td>31</td><td>10</td><td>2020</td><td>157</td><td>4</td><td>Afghanistan</td><td>AFG</td></tr><tr><th>7</th><td>30</td><td>10</td><td>2020</td><td>123</td><td>3</td><td>Afghanistan</td><td>AFG</td></tr><tr><th>8</th><td>29</td><td>10</td><td>2020</td><td>0</td><td>0</td><td>Afghanistan</td><td>AFG</td></tr><tr><th>9</th><td>28</td><td>10</td><td>2020</td><td>113</td><td>7</td><td>Afghanistan</td><td>AFG</td></tr><tr><th>10</th><td>27</td><td>10</td><td>2020</td><td>199</td><td>8</td><td>Afghanistan</td><td>AFG</td></tr><tr><th>11</th><td>26</td><td>10</td><td>2020</td><td>65</td><td>3</td><td>Afghanistan</td><td>AFG</td></tr><tr><th>12</th><td>25</td><td>10</td><td>2020</td><td>81</td><td>4</td><td>Afghanistan</td><td>AFG</td></tr><tr><th>13</th><td>24</td><td>10</td><td>2020</td><td>61</td><td>2</td><td>Afghanistan</td><td>AFG</td></tr><tr><th>14</th><td>23</td><td>10</td><td>2020</td><td>116</td><td>4</td><td>Afghanistan</td><td>AFG</td></tr><tr><th>15</th><td>22</td><td>10</td><td>2020</td><td>135</td><td>2</td><td>Afghanistan</td><td>AFG</td></tr><tr><th>16</th><td>21</td><td>10</td><td>2020</td><td>88</td><td>2</td><td>Afghanistan</td><td>AFG</td></tr><tr><th>17</th><td>20</td><td>10</td><td>2020</td><td>87</td><td>5</td><td>Afghanistan</td><td>AFG</td></tr><tr><th>18</th><td>19</td><td>10</td><td>2020</td><td>59</td><td>4</td><td>Afghanistan</td><td>AFG</td></tr><tr><th>19</th><td>18</td><td>10</td><td>2020</td><td>68</td><td>3</td><td>Afghanistan</td><td>AFG</td></tr><tr><th>20</th><td>17</td><td>10</td><td>2020</td><td>47</td><td>4</td><td>Afghanistan</td><td>AFG</td></tr><tr><th>21</th><td>16</td><td>10</td><td>2020</td><td>0</td><td>0</td><td>Afghanistan</td><td>AFG</td></tr><tr><th>22</th><td>15</td><td>10</td><td>2020</td><td>32</td><td>1</td><td>Afghanistan</td><td>AFG</td></tr><tr><th>23</th><td>14</td><td>10</td><td>2020</td><td>66</td><td>0</td><td>Afghanistan</td><td>AFG</td></tr><tr><th>24</th><td>13</td><td>10</td><td>2020</td><td>129</td><td>3</td><td>Afghanistan</td><td>AFG</td></tr><tr><th>25</th><td>12</td><td>10</td><td>2020</td><td>96</td><td>4</td><td>Afghanistan</td><td>AFG</td></tr><tr><th>26</th><td>11</td><td>10</td><td>2020</td><td>0</td><td>0</td><td>Afghanistan</td><td>AFG</td></tr><tr><th>27</th><td>10</td><td>10</td><td>2020</td><td>10</td><td>1</td><td>Afghanistan</td><td>AFG</td></tr><tr><th>28</th><td>9</td><td>10</td><td>2020</td><td>77</td><td>2</td><td>Afghanistan</td><td>AFG</td></tr><tr><th>29</th><td>8</td><td>10</td><td>2020</td><td>68</td><td>1</td><td>Afghanistan</td><td>AFG</td></tr><tr><th>30</th><td>7</td><td>10</td><td>2020</td><td>62</td><td>2</td><td>Afghanistan</td><td>AFG</td></tr><tr><th>&vellip;</th><td>&vellip;</td><td>&vellip;</td><td>&vellip;</td><td>&vellip;</td><td>&vellip;</td><td>&vellip;</td><td>&vellip;</td></tr></tbody></table>",
      "text/latex": "\\begin{tabular}{r|cccccccc}\n\t& Date.Day & Date.Month & Date.Year & Data.Cases & Data.Deaths & Location.Country & Location.Code & \\\\\n\t\\hline\n\t& Int64 & Int64 & Int64 & Int64 & Int64 & String & String? & \\\\\n\t\\hline\n\t1 & 5 & 11 & 2020 & 121 & 6 & Afghanistan & AFG & $\\dots$ \\\\\n\t2 & 4 & 11 & 2020 & 86 & 4 & Afghanistan & AFG & $\\dots$ \\\\\n\t3 & 3 & 11 & 2020 & 95 & 3 & Afghanistan & AFG & $\\dots$ \\\\\n\t4 & 2 & 11 & 2020 & 132 & 5 & Afghanistan & AFG & $\\dots$ \\\\\n\t5 & 1 & 11 & 2020 & 76 & 0 & Afghanistan & AFG & $\\dots$ \\\\\n\t6 & 31 & 10 & 2020 & 157 & 4 & Afghanistan & AFG & $\\dots$ \\\\\n\t7 & 30 & 10 & 2020 & 123 & 3 & Afghanistan & AFG & $\\dots$ \\\\\n\t8 & 29 & 10 & 2020 & 0 & 0 & Afghanistan & AFG & $\\dots$ \\\\\n\t9 & 28 & 10 & 2020 & 113 & 7 & Afghanistan & AFG & $\\dots$ \\\\\n\t10 & 27 & 10 & 2020 & 199 & 8 & Afghanistan & AFG & $\\dots$ \\\\\n\t11 & 26 & 10 & 2020 & 65 & 3 & Afghanistan & AFG & $\\dots$ \\\\\n\t12 & 25 & 10 & 2020 & 81 & 4 & Afghanistan & AFG & $\\dots$ \\\\\n\t13 & 24 & 10 & 2020 & 61 & 2 & Afghanistan & AFG & $\\dots$ \\\\\n\t14 & 23 & 10 & 2020 & 116 & 4 & Afghanistan & AFG & $\\dots$ \\\\\n\t15 & 22 & 10 & 2020 & 135 & 2 & Afghanistan & AFG & $\\dots$ \\\\\n\t16 & 21 & 10 & 2020 & 88 & 2 & Afghanistan & AFG & $\\dots$ \\\\\n\t17 & 20 & 10 & 2020 & 87 & 5 & Afghanistan & AFG & $\\dots$ \\\\\n\t18 & 19 & 10 & 2020 & 59 & 4 & Afghanistan & AFG & $\\dots$ \\\\\n\t19 & 18 & 10 & 2020 & 68 & 3 & Afghanistan & AFG & $\\dots$ \\\\\n\t20 & 17 & 10 & 2020 & 47 & 4 & Afghanistan & AFG & $\\dots$ \\\\\n\t21 & 16 & 10 & 2020 & 0 & 0 & Afghanistan & AFG & $\\dots$ \\\\\n\t22 & 15 & 10 & 2020 & 32 & 1 & Afghanistan & AFG & $\\dots$ \\\\\n\t23 & 14 & 10 & 2020 & 66 & 0 & Afghanistan & AFG & $\\dots$ \\\\\n\t24 & 13 & 10 & 2020 & 129 & 3 & Afghanistan & AFG & $\\dots$ \\\\\n\t25 & 12 & 10 & 2020 & 96 & 4 & Afghanistan & AFG & $\\dots$ \\\\\n\t26 & 11 & 10 & 2020 & 0 & 0 & Afghanistan & AFG & $\\dots$ \\\\\n\t27 & 10 & 10 & 2020 & 10 & 1 & Afghanistan & AFG & $\\dots$ \\\\\n\t28 & 9 & 10 & 2020 & 77 & 2 & Afghanistan & AFG & $\\dots$ \\\\\n\t29 & 8 & 10 & 2020 & 68 & 1 & Afghanistan & AFG & $\\dots$ \\\\\n\t30 & 7 & 10 & 2020 & 62 & 2 & Afghanistan & AFG & $\\dots$ \\\\\n\t$\\dots$ & $\\dots$ & $\\dots$ & $\\dots$ & $\\dots$ & $\\dots$ & $\\dots$ & $\\dots$ &  \\\\\n\\end{tabular}\n"
     },
     "metadata": {},
     "execution_count": 23
    }
   ],
   "source": [
    "\"\"\"\n",
    "    read_csv(file)\n",
    "\n",
    "Read the .csv file in ``file`` into a ``DataFrame``.\n",
    "\n",
    "### Arguments\n",
    "\n",
    "* `file` : a string\n",
    "\n",
    "\"\"\"\n",
    "function read_csv(file)::DataFrames.DataFrame\n",
    "    df = CSV.read(file, DataFrames.DataFrame)\n",
    "    return df\n",
    "end\n",
    "\n",
    "\n",
    "df = read_csv(FILE)\n",
    "# group the data by continent\n",
    "grouped_continents = DataFrames.groupby(df, \"Location.Continent\")\n",
    "# get the continents as keys\n",
    "continents = DataFrames.keys(grouped_continents)\n",
    "continent = grouped_continents[continents[1]]\n",
    "\n",
    "grouped_countries = DataFrames.groupby(continent, \"Location.Country\")\n",
    "# get the countries as keys\n",
    "countries = DataFrames.keys(grouped_countries)\n",
    "country = grouped_countries[countries[1]]"
   ]
  },
  {
   "cell_type": "code",
   "execution_count": 52,
   "metadata": {},
   "outputs": [
    {
     "output_type": "execute_result",
     "data": {
      "text/plain": [
       "create_dates (generic function with 1 method)"
      ]
     },
     "metadata": {},
     "execution_count": 52
    }
   ],
   "source": [
    "function create_dates(data)\n",
    "    dates = data[:, 1:3]\n",
    "    n_dates = DataFrames.nrow(dates)\n",
    "    dat = Array{Dates.Date}(undef, n_dates)\n",
    "    for i in 1:DataFrames.nrow(dates)\n",
    "        date = Dates.Date(\n",
    "            Dates.Day(dates[i, 1][1]),\n",
    "            Dates.Month(dates[i, 2][1]),\n",
    "            Dates.Year(dates[i, 3][1]),\n",
    "        )\n",
    "        dat[i] = date\n",
    "    end\n",
    "    return dat\n",
    "end"
   ]
  },
  {
   "cell_type": "code",
   "execution_count": 53,
   "metadata": {},
   "outputs": [
    {
     "output_type": "execute_result",
     "data": {
      "text/plain": [
       "301-element Array{Dates.Date,1}:\n",
       " 2020-11-05\n",
       " 2020-11-04\n",
       " 2020-11-03\n",
       " 2020-11-02\n",
       " 2020-11-01\n",
       " 2020-10-31\n",
       " 2020-10-30\n",
       " 2020-10-29\n",
       " 2020-10-28\n",
       " 2020-10-27\n",
       " 2020-10-26\n",
       " 2020-10-25\n",
       " 2020-10-24\n",
       " ⋮\n",
       " 2020-01-11\n",
       " 2020-01-10\n",
       " 2020-01-09\n",
       " 2020-01-08\n",
       " 2020-01-07\n",
       " 2020-01-06\n",
       " 2020-01-05\n",
       " 2020-01-04\n",
       " 2020-01-03\n",
       " 2020-01-02\n",
       " 2020-01-01\n",
       " 2019-12-31"
      ]
     },
     "metadata": {},
     "execution_count": 53
    }
   ],
   "source": [
    "dat = create_dates(country)"
   ]
  },
  {
   "cell_type": "code",
   "execution_count": 49,
   "metadata": {},
   "outputs": [
    {
     "output_type": "execute_result",
     "data": {
      "text/plain": [
       "301-element Array{Dates.Date,1}:\n",
       " 2020-11-05\n",
       " 2020-11-04\n",
       " 2020-11-03\n",
       " 2020-11-02\n",
       " 2020-11-01\n",
       " 2020-10-31\n",
       " 2020-10-30\n",
       " 2020-10-29\n",
       " 2020-10-28\n",
       " 2020-10-27\n",
       " 2020-10-26\n",
       " 2020-10-25\n",
       " 2020-10-24\n",
       " ⋮\n",
       " 2020-01-11\n",
       " 2020-01-10\n",
       " 2020-01-09\n",
       " 2020-01-08\n",
       " 2020-01-07\n",
       " 2020-01-06\n",
       " 2020-01-05\n",
       " 2020-01-04\n",
       " 2020-01-03\n",
       " 2020-01-02\n",
       " 2020-01-01\n",
       " 2019-12-31"
      ]
     },
     "metadata": {},
     "execution_count": 49
    }
   ],
   "source": [
    "dat"
   ]
  },
  {
   "cell_type": "code",
   "execution_count": null,
   "metadata": {},
   "outputs": [],
   "source": []
  }
 ]
}