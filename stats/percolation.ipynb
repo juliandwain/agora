{
 "metadata": {
  "language_info": {
   "codemirror_mode": {
    "name": "ipython",
    "version": 3
   },
   "file_extension": ".py",
   "mimetype": "text/x-python",
   "name": "python",
   "nbconvert_exporter": "python",
   "pygments_lexer": "ipython3",
   "version": "3.8.5-final"
  },
  "orig_nbformat": 2,
  "kernelspec": {
   "name": "python3",
   "display_name": "Python 3"
  }
 },
 "nbformat": 4,
 "nbformat_minor": 2,
 "cells": [
  {
   "source": [
    "# Percolation"
   ],
   "cell_type": "markdown",
   "metadata": {}
  },
  {
   "cell_type": "code",
   "execution_count": 1,
   "metadata": {},
   "outputs": [],
   "source": [
    "import collections\n",
    "import random\n",
    "import time\n",
    "from typing import Union\n",
    "\n",
    "import matplotlib.gridspec as gridspec\n",
    "import matplotlib.pyplot as plt\n",
    "import numpy as np\n",
    "\n",
    "# use the searborn style\n",
    "plt.style.use(\"seaborn\")\n",
    "# make interactive plots\n",
    "plt.ion()\n",
    "\n",
    "%matplotlib qt"
   ]
  },
  {
   "cell_type": "code",
   "execution_count": 2,
   "metadata": {},
   "outputs": [],
   "source": [
    "# define the number of points in x and y direction\n",
    "nx, ny = 10, 10\n",
    "# define the offset\n",
    "offset = 1\n",
    "# define the distance between the nodes\n",
    "distance = 2\n",
    "# define the x and y coordinates\n",
    "x_coord = np.arange(start=offset, stop=nx + offset, step=distance, dtype=float)\n",
    "y_coord = np.arange(start=offset, stop=ny + offset, step=distance, dtype=float)\n",
    "# create a mesh\n",
    "x, y = np.meshgrid(x_coord, y_coord)\n",
    "# create an array containing the coordinates of each point and the corresponding indices as array\n",
    "coords = np.array(list(zip(x.flatten(), y.flatten())), dtype=float)\n",
    "idcs = np.arange(0, coords.shape[0])\n",
    "# define the search tree as set from which each element which is visited will be removed\n",
    "tree = {(x, y) for x, y in coords}\n",
    "\n",
    "# select random coordinates which represent the infected persons\n",
    "rng = np.random.default_rng()\n",
    "num_infected = 1\n",
    "idx = rng.choice(idcs, size=num_infected)\n",
    "# get a random coordinate which represents the patient zero\n",
    "pat_zero = tuple(coords[idx, ...][0])\n",
    "# reshape the indices in order to be consistent with the grid\n",
    "idcs = np.flip(np.flip(idcs, axis=0).reshape(x.shape), axis=1)\n",
    "\n",
    "# define the probability of infection\n",
    "p_infect = 0.9"
   ]
  },
  {
   "cell_type": "code",
   "execution_count": 3,
   "metadata": {},
   "outputs": [],
   "source": [
    "def get_neighbors(current: tuple, distance: Union[int, float], x_limit: tuple, y_limit: tuple) -> np.ndarray:\n",
    "    \"\"\"Get all direct neighbors of an infected person.\n",
    "\n",
    "    Parameters\n",
    "    ----------\n",
    "    current : tuple\n",
    "        The current node as (x, y) coordinates.\n",
    "    distance : int or float\n",
    "        The distance between two nodes.\n",
    "    x_limit : tuple\n",
    "        The limit in x direction as (x_min, x_max).\n",
    "    y_limit : tuple\n",
    "        The limit in y direction as (y_min, y_max).\n",
    "\n",
    "    Returns\n",
    "    -------\n",
    "    np.ndarray\n",
    "        The neighboring coordinates as array in the order top, left, bottom, right. If a node does not have\n",
    "        all neighbors, the corresponding coordinate is skipped in the order, i.e. top, bottom, left if\n",
    "        the node is at the left end at x_min.\n",
    "\n",
    "    \"\"\"\n",
    "\n",
    "    x, y = current\n",
    "    x_min, x_max, y_min, y_max = *x_limit, *y_limit\n",
    "    if x < x_min or x > x_max:\n",
    "        raise AssertionError(\"The node is not within the range.\")\n",
    "    if y < y_min or y > y_max:\n",
    "        raise AssertionError(\"The node is not within the range.\")\n",
    "    if x == x_min:\n",
    "        if y == y_min:\n",
    "            top = np.array([x, y + distance], dtype=float)\n",
    "            right = np.array([x + distance, y], dtype=float)\n",
    "            return np.array([top, right])\n",
    "        elif y == y_max:\n",
    "            bottom = np.array([x, y - distance], dtype=float)\n",
    "            right = np.array([x + distance, y], dtype=float)\n",
    "            return np.array([bottom, right])\n",
    "        else:\n",
    "            top = np.array([x, y + distance], dtype=float)\n",
    "            bottom = np.array([x, y - distance], dtype=float)\n",
    "            right = np.array([x + distance, y], dtype=float)\n",
    "            return np.array([top, bottom, right])\n",
    "    elif x == x_max:\n",
    "        if y == y_min:\n",
    "            top = np.array([x, y + distance], dtype=float)\n",
    "            left = np.array([x - distance, y], dtype=float)\n",
    "            return np.array([top, left])\n",
    "        elif y == y_max:\n",
    "            left = np.array([x - distance, y], dtype=float)\n",
    "            bottom = np.array([x, y - distance], dtype=float)\n",
    "            return np.array([left, bottom])\n",
    "        else:\n",
    "            top = np.array([x, y + distance], dtype=float)\n",
    "            left = np.array([x - distance, y], dtype=float)\n",
    "            bottom = np.array([x, y - distance], dtype=float)\n",
    "            return np.array([top, left, bottom])\n",
    "    else:\n",
    "        if y == y_min:\n",
    "            top = np.array([x, y + distance], dtype=float)\n",
    "            left = np.array([x - distance, y], dtype=float)\n",
    "            right = np.array([x + distance, y], dtype=float)\n",
    "            return np.array([top, left, right])\n",
    "        elif y == y_max:\n",
    "            left = np.array([x - distance, y], dtype=float)\n",
    "            bottom = np.array([x, y - distance], dtype=float)\n",
    "            right = np.array([x + distance, y], dtype=float)\n",
    "            return np.array([left, bottom, right])\n",
    "        else:\n",
    "            top = np.array([x, y + distance], dtype=float)\n",
    "            left = np.array([x - distance, y], dtype=float)\n",
    "            bottom = np.array([x, y - distance], dtype=float)\n",
    "            right = np.array([x + distance, y], dtype=float)\n",
    "            return np.array([top, left, bottom, right])\n"
   ]
  },
  {
   "cell_type": "code",
   "execution_count": 4,
   "metadata": {
    "tags": []
   },
   "outputs": [
    {
     "output_type": "stream",
     "name": "stdout",
     "text": [
      "Frontier: deque([(3.0, 7.0)])\nNode: (3.0, 7.0)\nFrontier: deque([(3.0, 9.0), (3.0, 5.0), (5.0, 7.0)])\nNode: (5.0, 7.0)\nFrontier: deque([(3.0, 9.0), (3.0, 5.0), (5.0, 5.0), (7.0, 7.0)])\nNode: (7.0, 7.0)\nFrontier: deque([(3.0, 9.0), (3.0, 5.0), (5.0, 5.0), (7.0, 9.0), (7.0, 5.0), (9.0, 7.0)])\nNode: (9.0, 7.0)\nFrontier: deque([(3.0, 9.0), (3.0, 5.0), (5.0, 5.0), (7.0, 9.0), (7.0, 5.0), (9.0, 9.0), (9.0, 5.0)])\nNode: (9.0, 5.0)\nFrontier: deque([(3.0, 9.0), (3.0, 5.0), (5.0, 5.0), (7.0, 9.0), (7.0, 5.0), (9.0, 9.0), (9.0, 3.0)])\nNode: (9.0, 3.0)\nFrontier: deque([(3.0, 9.0), (3.0, 5.0), (5.0, 5.0), (7.0, 9.0), (7.0, 5.0), (9.0, 9.0), (7.0, 3.0), (9.0, 1.0)])\nNode: (9.0, 1.0)\nFrontier: deque([(3.0, 9.0), (3.0, 5.0), (5.0, 5.0), (7.0, 9.0), (7.0, 5.0), (9.0, 9.0), (7.0, 3.0), (7.0, 1.0)])\nNode: (7.0, 1.0)\nFrontier: deque([(3.0, 9.0), (3.0, 5.0), (5.0, 5.0), (7.0, 9.0), (7.0, 5.0), (9.0, 9.0), (7.0, 3.0), (5.0, 1.0)])\nNode: (5.0, 1.0)\nFrontier: deque([(3.0, 9.0), (3.0, 5.0), (5.0, 5.0), (7.0, 9.0), (7.0, 5.0), (9.0, 9.0), (7.0, 3.0), (5.0, 3.0), (3.0, 1.0)])\nNode: (3.0, 1.0)\nFrontier: deque([(3.0, 9.0), (3.0, 5.0), (5.0, 5.0), (7.0, 9.0), (7.0, 5.0), (9.0, 9.0), (7.0, 3.0), (5.0, 3.0), (3.0, 3.0), (1.0, 1.0)])\nNode: (1.0, 1.0)\nFrontier: deque([(3.0, 9.0), (3.0, 5.0), (5.0, 5.0), (7.0, 9.0), (7.0, 5.0), (9.0, 9.0), (7.0, 3.0), (5.0, 3.0), (3.0, 3.0), (1.0, 3.0)])\nNode: (1.0, 3.0)\nFrontier: deque([(3.0, 9.0), (3.0, 5.0), (5.0, 5.0), (7.0, 9.0), (7.0, 5.0), (9.0, 9.0), (7.0, 3.0), (5.0, 3.0), (3.0, 3.0), (1.0, 5.0)])\nNode: (1.0, 5.0)\nFrontier: deque([(3.0, 9.0), (3.0, 5.0), (5.0, 5.0), (7.0, 9.0), (7.0, 5.0), (9.0, 9.0), (7.0, 3.0), (5.0, 3.0), (3.0, 3.0), (1.0, 7.0)])\nNode: (1.0, 7.0)\nFrontier: deque([(3.0, 9.0), (3.0, 5.0), (5.0, 5.0), (7.0, 9.0), (7.0, 5.0), (9.0, 9.0), (7.0, 3.0), (5.0, 3.0), (3.0, 3.0), (1.0, 9.0)])\nNode: (1.0, 9.0)\nFrontier: deque([(3.0, 9.0), (3.0, 5.0), (5.0, 5.0), (7.0, 9.0), (7.0, 5.0), (9.0, 9.0), (7.0, 3.0), (5.0, 3.0), (3.0, 3.0)])\nNode: (3.0, 3.0)\nFrontier: deque([(3.0, 9.0), (3.0, 5.0), (5.0, 5.0), (7.0, 9.0), (7.0, 5.0), (9.0, 9.0), (7.0, 3.0), (5.0, 3.0)])\nNode: (5.0, 3.0)\nFrontier: deque([(3.0, 9.0), (3.0, 5.0), (5.0, 5.0), (7.0, 9.0), (7.0, 5.0), (9.0, 9.0), (7.0, 3.0)])\nNode: (7.0, 3.0)\nFrontier: deque([(3.0, 9.0), (3.0, 5.0), (5.0, 5.0), (7.0, 9.0), (7.0, 5.0), (9.0, 9.0)])\nNode: (9.0, 9.0)\nFrontier: deque([(3.0, 9.0), (3.0, 5.0), (5.0, 5.0), (7.0, 9.0), (7.0, 5.0)])\nNode: (7.0, 5.0)\nFrontier: deque([(3.0, 9.0), (3.0, 5.0), (5.0, 5.0), (7.0, 9.0)])\nNode: (7.0, 9.0)\nFrontier: deque([(3.0, 9.0), (3.0, 5.0), (5.0, 5.0), (5.0, 9.0)])\nNode: (5.0, 9.0)\nFrontier: deque([(3.0, 9.0), (3.0, 5.0), (5.0, 5.0)])\nNode: (5.0, 5.0)\nFrontier: deque([(3.0, 9.0), (3.0, 5.0)])\nNode: (3.0, 5.0)\nFrontier: deque([(3.0, 9.0)])\nNode: (3.0, 9.0)\n\n----------------\nEMPTY\n----------------\n\n"
     ]
    },
    {
     "output_type": "execute_result",
     "data": {
      "text/plain": [
       "<matplotlib.legend.Legend at 0x17b78ca9130>"
      ]
     },
     "metadata": {},
     "execution_count": 4
    }
   ],
   "source": [
    "# DEBUG ################################\n",
    "tree = {(x, y) for x, y in coords}\n",
    "counter = 0\n",
    "tree_struct = {}\n",
    "#################################\n",
    "\n",
    "# define the color black with a hex string\n",
    "black = \"#000000\"\n",
    "red = \"#ff0000\"\n",
    "# define the figure\n",
    "nrows, ncols = 1, 1\n",
    "fig1 = plt.figure(figsize=(10, 10))\n",
    "gs = gridspec.GridSpec(nrows, ncols, figure=fig1)\n",
    "ax1 = fig1.add_subplot(gs[0, 0])\n",
    "# plot the grid\n",
    "ax1.plot(x, y, color=black, marker=\"x\", ls=\"-\")\n",
    "ax1.plot(y, x, color=black, marker=\"x\", ls=\"-\")\n",
    "\n",
    "# define the x and y limits\n",
    "xlim, ylim =  (x_coord[0], x_coord[-1]), (y_coord[0], y_coord[-1])\n",
    "frontier = collections.deque([pat_zero])\n",
    "ax1.plot(*pat_zero, marker='o', ms=10, color='b', label=\"patient zero\")\n",
    "while frontier:\n",
    "    infected = []\n",
    "    print(f\"Frontier: {frontier}\")\n",
    "    node = frontier.pop()\n",
    "    print(f\"Node: {node}\")\n",
    "    # remove the infected patient from the tree\n",
    "    tree.remove(node)\n",
    "    neighbors = get_neighbors(node, distance, x_limit=xlim, y_limit=ylim)\n",
    "    mask = rng.random(size=neighbors.shape[0]) < p_infect\n",
    "    for x, y in neighbors[mask]: \n",
    "        if (x, y) not in tree or (x, y) in frontier:\n",
    "            continue\n",
    "        frontier.append((x, y))\n",
    "        infected.append((x, y))\n",
    "        ax1.arrow(node[0], node[1], x - node[0], y - node[1], width=0.04, length_includes_head=True, head_width=0.1, color=red)\n",
    "        ax1.plot(x, y, marker=\"o\", ms=10, color=\"g\")\n",
    "    tree_struct[f\"Node: {node}\"] = infected\n",
    "else:\n",
    "    print(\"\\n----------------\\nEMPTY\\n----------------\\n\")\n",
    "ax1.legend()"
   ]
  },
  {
   "source": [
    "    START Percolation\n",
    "    \n",
    "    INIT frontier with patient zero\n",
    "    INIT tree with patients\n",
    "    \n",
    "    WHILE frontier not empty\n",
    "\n",
    "        INIT node <- frontier.pop\n",
    "        IF node in frontier THEN\n",
    "            CONTINUE\n",
    "        ENDIF\n",
    "        TRY\n",
    "            tree.remove(node)\n",
    "        CATCH NodeNotInTreeError\n",
    "            CONTINUE\n",
    "        ENDTRY\n",
    "        INIT neighbors <- get_neighbors\n",
    "        INIT infected neighbors <- SUBSET neighbors\n",
    "        FOR x, y in infected neighbors\n",
    "            IF x, y not in tree OR x, y in frontier\n",
    "                CONTINUE\n",
    "            ENDIF\n",
    "            frontier.append(x, y)\n",
    "    "
   ],
   "cell_type": "markdown",
   "metadata": {}
  },
  {
   "cell_type": "code",
   "execution_count": 6,
   "metadata": {},
   "outputs": [
    {
     "output_type": "execute_result",
     "data": {
      "text/plain": [
       "set()"
      ]
     },
     "metadata": {},
     "execution_count": 6
    }
   ],
   "source": [
    "tree"
   ]
  },
  {
   "cell_type": "code",
   "execution_count": null,
   "metadata": {},
   "outputs": [],
   "source": []
  }
 ]
}